{
 "metadata": {
  "language_info": {
   "codemirror_mode": {
    "name": "ipython",
    "version": 3
   },
   "file_extension": ".py",
   "mimetype": "text/x-python",
   "name": "python",
   "nbconvert_exporter": "python",
   "pygments_lexer": "ipython3",
   "version": "3.9.5"
  },
  "orig_nbformat": 4,
  "kernelspec": {
   "name": "python3",
   "display_name": "Python 3.9.5 64-bit"
  },
  "interpreter": {
   "hash": "fe06f96167c4fc64a78c238d993189072a4e72b444216e36203d6f96126eaf0a"
  }
 },
 "nbformat": 4,
 "nbformat_minor": 2,
 "cells": [
  {
   "cell_type": "code",
   "execution_count": null,
   "metadata": {},
   "outputs": [],
   "source": [
    "##INSTALLING TWINT -Twint is used because Twitter does not approve my request for official API\n",
    "# \n",
    "# git clone --depth=1 https://github.com/twintproject/twint.git\n",
    "# cd twint\n",
    "# pip3 install . -r requirements.txt\n",
    "# pip3 install twint \n",
    "# pip install pipenv\n",
    "# pipenv install git+https://github.com/twintproject/twint.git#egg=twint"
   ]
  },
  {
   "cell_type": "code",
   "execution_count": null,
   "metadata": {},
   "outputs": [],
   "source": [
    "##pip install pandas -Installing panda dataframe if it is not installed yet"
   ]
  },
  {
   "cell_type": "code",
   "execution_count": null,
   "metadata": {},
   "outputs": [],
   "source": [
    "import twint\n",
    "import nest_asyncio\n",
    "nest_asyncio.apply()\n"
   ]
  },
  {
   "cell_type": "code",
   "execution_count": null,
   "metadata": {
    "tags": [
     "outputPrepend"
    ]
   },
   "outputs": [],
   "source": [
    "c = twint.Config()\n",
    "\n",
    "c.Search = \"request for startup\"\n",
    "c.Custom[\"tweet\"] = [\"date\",\"username\",\"tweet\",\"likes_count\",\"retweets_count\",\"replies_count\",\"photos\"]\n",
    "c.Limit= 1500\n",
    "c.Store_csv = True\n",
    "c.Output = \"tweets.csv\" #file is saved to wherever the ipynb file is located.\n",
    "\n",
    "twint.run.Search(c)"
   ]
  },
  {
   "cell_type": "code",
   "execution_count": null,
   "metadata": {},
   "outputs": [],
   "source": [
    "##Takes a little bit time."
   ]
  },
  {
   "cell_type": "code",
   "execution_count": null,
   "metadata": {},
   "outputs": [],
   "source": [
    "import pandas as pd\n",
    "df = pd.read_csv(\"tweets.csv\")\n",
    "df.sort_values([\"likes_count\", \"retweets_count\",\"replies_count\",\"date\"], axis=0,\n",
    "                 ascending=[False, False, False, False], inplace=True)\n",
    "df.head(10)\n",
    "df.to_csv('tweets_sorted.csv', index=False)\n",
    "a = pd.read_csv(\"tweets_sorted.csv\")\n",
    "\n",
    "a.to_html(\"Table.htm\")\n",
    "\n",
    "html_file = a.to_html()"
   ]
  },
  {
   "cell_type": "code",
   "execution_count": null,
   "metadata": {},
   "outputs": [],
   "source": [
    "import os\n",
    "os.system(\"start Table.htm\")"
   ]
  }
 ]
}